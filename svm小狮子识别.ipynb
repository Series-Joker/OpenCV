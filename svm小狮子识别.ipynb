{
 "cells": [
  {
   "cell_type": "markdown",
   "metadata": {},
   "source": [
    "# 小狮子识别"
   ]
  },
  {
   "cell_type": "code",
   "execution_count": 3,
   "metadata": {},
   "outputs": [],
   "source": [
    "import cv2\n",
    "import tensorflow as tf\n",
    "import numpy as np\n",
    "import matplotlib.pyplot as plt"
   ]
  },
  {
   "cell_type": "code",
   "execution_count": 5,
   "metadata": {},
   "outputs": [
    {
     "ename": "NameError",
     "evalue": "name 'svm' is not defined",
     "output_type": "error",
     "traceback": [
      "\u001b[1;31m---------------------------------------------------------------------------\u001b[0m",
      "\u001b[1;31mNameError\u001b[0m                                 Traceback (most recent call last)",
      "\u001b[1;32m<ipython-input-5-f02e0cf7239e>\u001b[0m in \u001b[0;36m<module>\u001b[1;34m\u001b[0m\n\u001b[0;32m     12\u001b[0m \u001b[1;33m\u001b[0m\u001b[0m\n\u001b[0;32m     13\u001b[0m \u001b[1;31m#svm\u001b[0m\u001b[1;33m\u001b[0m\u001b[1;33m\u001b[0m\u001b[1;33m\u001b[0m\u001b[0m\n\u001b[1;32m---> 14\u001b[1;33m \u001b[0msvm\u001b[0m \u001b[1;33m=\u001b[0m \u001b[0msvm\u001b[0m\u001b[1;33m.\u001b[0m\u001b[0mml\u001b[0m\u001b[1;33m.\u001b[0m\u001b[0mSVM_create\u001b[0m\u001b[1;33m(\u001b[0m\u001b[1;33m)\u001b[0m\u001b[1;33m\u001b[0m\u001b[1;33m\u001b[0m\u001b[0m\n\u001b[0m\u001b[0;32m     15\u001b[0m \u001b[1;31m#4computer hog\u001b[0m\u001b[1;33m\u001b[0m\u001b[1;33m\u001b[0m\u001b[1;33m\u001b[0m\u001b[0m\n\u001b[0;32m     16\u001b[0m \u001b[0mfeatureNum\u001b[0m \u001b[1;33m=\u001b[0m \u001b[0mint\u001b[0m\u001b[1;33m(\u001b[0m\u001b[1;33m(\u001b[0m\u001b[1;33m(\u001b[0m\u001b[1;36m128\u001b[0m\u001b[1;33m-\u001b[0m\u001b[1;36m16\u001b[0m\u001b[1;33m)\u001b[0m\u001b[1;33m/\u001b[0m\u001b[1;36m8\u001b[0m\u001b[1;33m+\u001b[0m\u001b[1;36m1\u001b[0m\u001b[1;33m)\u001b[0m\u001b[1;33m*\u001b[0m\u001b[1;33m(\u001b[0m\u001b[1;33m(\u001b[0m\u001b[1;36m64\u001b[0m\u001b[1;33m-\u001b[0m\u001b[1;36m16\u001b[0m\u001b[1;33m)\u001b[0m\u001b[1;33m/\u001b[0m\u001b[1;36m8\u001b[0m\u001b[1;33m+\u001b[0m\u001b[1;36m1\u001b[0m\u001b[1;33m)\u001b[0m\u001b[1;33m*\u001b[0m\u001b[1;36m4\u001b[0m\u001b[1;33m*\u001b[0m\u001b[1;36m7\u001b[0m\u001b[1;33m)\u001b[0m\u001b[1;33m\u001b[0m\u001b[1;33m\u001b[0m\u001b[0m\n",
      "\u001b[1;31mNameError\u001b[0m: name 'svm' is not defined"
     ]
    }
   ],
   "source": [
    "#1 参数 2 hog 3 svm 4 computer 5 lable 6 train 7 pred\n",
    "PosNum = 820\n",
    "NegNum = 1931\n",
    "winSize = (64,128)\n",
    "blockSize = (16,16)\n",
    "blockStride = (8,8)\n",
    "cellSize= (8,8)\n",
    "nBin = 9\n",
    "\n",
    "#2 hog\n",
    "hog = cv2.HOGDescriptor(winSize,blockSize,blockStride,cellSize,nBin)\n",
    "\n",
    "#svm\n",
    "svm = svm.ml.SVM_create()\n",
    "#4computer hog\n",
    "featureNum = int(((128-16)/8+1)*((64-16)/8+1)*4*7)\n",
    "featureArray = np.zeros(((PosNum+NegNum),featureNum),np.float32)\n",
    "lableArray = np.zeros(((PosNum+NegNum),1).np.int32)\n",
    "\n",
    "for i in range(0,PosNum):\n",
    "    filename = 'pos\\\\'+str(i+1)+'.jpg'\n",
    "    img = cv2.imread(filename)\n",
    "    hist = hog.compute(img,(8,8))\n",
    "    for j in range(0,featureNum):\n",
    "        featureArray[i,j] = hist[j]\n",
    "    lableArray[i,0] = 1\n",
    "    \n",
    "for i in range(0,NegNum):\n",
    "    filename = 'neg\\\\'+str(i+1)+'.jpg'\n",
    "    img = cv2.imread(filename)\n",
    "    hist = hog.compute(img,(8,8))\n",
    "    for j in range(0,featureNum):\n",
    "        featureArray[i+PosNum,j] = hist[j]\n",
    "    lableArray[i+PosNum,0] = -1\n",
    "    \n",
    "#负样本\n",
    "svm.setType(cv2.ml.SVM_C_SVC)\n",
    "svm.setKernel(cv2.ml.SVM_LINEAR)\n",
    "svm.setC(0.01)\n",
    "\n",
    "# train\n",
    "ret = svm.train(featureArray,cv2.ml.ROW_SAMPLE,lableArray)\n",
    "\n",
    "#检测\n",
    "alpha = np.zeros((1).np.float32)\n",
    "rho = svm.getDecisionFunction(0,alpha)\n",
    "alphArray = np.zeros((1,1),np.float32)\n",
    "supportVArray = np.zeros((1,featureNum),np.float32)\n",
    "reArray = np.zeros((1,featureNum),np.float32)\n",
    "alphArray[0,0] = alpha\n",
    "#detect\n",
    "myDetect = np.zeros((3781),np.float32)\n",
    "for i in range(0,3780):\n",
    "    myDetect[3780] = reArray[0,i]\n",
    "myDetect[3780] = rho[0]\n",
    "#构建\n",
    "myHog = cv2.HOGDescriptor()\n",
    "myHog.setSVMDetector(myDetect)\n",
    "imageSrc = cv2.imread('test.jpg',1)\n",
    "obj = myHog.detectMultiScale(imageSrc,0,(8,8),(32,32),1.05,2)\n",
    "x = int(obj[0][0][0])\n",
    "y = int(obj[0][0][1])\n",
    "w = int(obj[0][0][2])\n",
    "h = int(obj[0][0][3])\n",
    "cv2.rectangle(imageSrc,(x,y),(x+w,y+h),(255,0,0),2)\n",
    "cv2.imshow('dst',imageSrc)\n",
    "cv2.waitKey(0)"
   ]
  },
  {
   "cell_type": "code",
   "execution_count": null,
   "metadata": {},
   "outputs": [],
   "source": []
  }
 ],
 "metadata": {
  "kernelspec": {
   "display_name": "pytorch13",
   "language": "python",
   "name": "pytorch13"
  },
  "language_info": {
   "codemirror_mode": {
    "name": "ipython",
    "version": 3
   },
   "file_extension": ".py",
   "mimetype": "text/x-python",
   "name": "python",
   "nbconvert_exporter": "python",
   "pygments_lexer": "ipython3",
   "version": "3.7.5"
  }
 },
 "nbformat": 4,
 "nbformat_minor": 2
}
