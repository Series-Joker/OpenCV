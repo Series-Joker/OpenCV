{
 "cells": [
  {
   "cell_type": "markdown",
   "metadata": {},
   "source": [
    "# 边缘检测"
   ]
  },
  {
   "cell_type": "code",
   "execution_count": 2,
   "metadata": {},
   "outputs": [],
   "source": [
    "import tensorflow as tf\n",
    "import numpy as np\n",
    "import cv2\n",
    "import random"
   ]
  },
  {
   "cell_type": "code",
   "execution_count": 4,
   "metadata": {},
   "outputs": [
    {
     "data": {
      "text/plain": [
       "-1"
      ]
     },
     "execution_count": 4,
     "metadata": {},
     "output_type": "execute_result"
    }
   ],
   "source": [
    "img1 = cv2.imread('H:\\Jupyter\\img1.jpg',1)\n",
    "imgInfo = img1.shape\n",
    "height = imgInfo[0]\n",
    "width = imgInfo[1]\n",
    "#canny 1 gray 2 高斯  3 canny\n",
    "gray = cv2.cvtColor(img1,cv2.COLOR_BGR2BGRA)\n",
    "imgG = cv2.GaussianBlur(gray,(3,3),0)\n",
    "dst = cv2.Canny(img1,50,50) # 1 data 2 th 图片卷积运算\n",
    "cv2.imshow('dst',dst)\n",
    "cv2.waitKey()"
   ]
  },
  {
   "cell_type": "code",
   "execution_count": null,
   "metadata": {},
   "outputs": [],
   "source": [
    "# sobel 1 算子模板  2 图片卷积  3 阈值判决\n",
    "gray = cv2.cvtColor(img,cv2.COLOR_BGR2BGRA)\n",
    "dst = np.zeros((height,width,1),np.uint8)\n",
    "for i in range(0,height-2):\n",
    "    for j in range(0,width-2):\n",
    "        gy = gray[i,j]*1 + gray[i,j+1]*2 = gray[i,j+2]*1 - gray[i+2,j]*1 - \\\n",
    "            gray[i+2,j+1]*2\n",
    "        gx = gray[i,j]*1 + gray[i,j+1]*2 = gray[i,j+2]*1 - gray[i+2,j]*1 - \\\n",
    "            gray[i+2,j+1]*2\n",
    "        grad = math.sqrt(gx*gx+gy*gy)\n",
    "        if grad > 50:\n",
    "            dst[i,j] = 255\n",
    "        else:\n",
    "            dst[i,j] = 0\n",
    "cv2.imshow('img',dst)\n",
    "cv2.waitKey(0)"
   ]
  }
 ],
 "metadata": {
  "kernelspec": {
   "display_name": "pytorch13",
   "language": "python",
   "name": "pytorch13"
  },
  "language_info": {
   "codemirror_mode": {
    "name": "ipython",
    "version": 3
   },
   "file_extension": ".py",
   "mimetype": "text/x-python",
   "name": "python",
   "nbconvert_exporter": "python",
   "pygments_lexer": "ipython3",
   "version": "3.7.5"
  }
 },
 "nbformat": 4,
 "nbformat_minor": 2
}
