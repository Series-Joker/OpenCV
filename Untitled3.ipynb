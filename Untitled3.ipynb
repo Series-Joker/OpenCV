{
 "cells": [
  {
   "cell_type": "code",
   "execution_count": null,
   "metadata": {},
   "outputs": [],
   "source": []
  },
  {
   "cell_type": "code",
   "execution_count": 2,
   "metadata": {},
   "outputs": [],
   "source": [
    "import tensorflow as tf\n",
    "import numpy as np\n",
    "import random\n",
    "from tensorflow.examples.tutorials.mnist import input_data\n",
    "import scipy.io as sio\n"
   ]
  },
  {
   "cell_type": "code",
   "execution_count": null,
   "metadata": {},
   "outputs": [],
   "source": [
    "f = open('Yale_64x64.mat','rb')\n",
    "dict = sio.loadmat(f)\n",
    "\n",
    "train_data = dict['fea']\n",
    "train_lable = dict['gnd']\n",
    "\n",
    "test_data = np.random.permutation(train_data)\n",
    "test_data = train_data[0:64]\n",
    "test_lable = np.random.permutation(train_lable)\n",
    "test_lable = test_lable[0:64]\n",
    "\n",
    "test_data = np.random.permutation(test_data)\n",
    "test_lable = np.random.permutation(test_lable)\n",
    "\n",
    "train_data = train_data.reshape(train_data.shape[0],64,64,1).astype(np.float32)/255\n",
    "train_lable = np.zeros((165,15))\n",
    "\n",
    "\n",
    "for i in range(0,165):\n",
    "    j = int(train_lable[i,0])-1\n",
    "    train_lable[i,j] = 1\n",
    "test_data = test_data.reshape(test_data.shape[0],64,64,1).astype(np.float32)/255\n",
    "test_lable = np.zeros((165,15))\n",
    "for i in range(0,64):\n",
    "    j = int(test_lable[i,0])-1\n",
    "    test_lable[i,j] = 1\n",
    "\n",
    "    \n",
    "layerl = tf.layers.conv2d(inputs = data_input,filters=32,kernel_size=2,\n",
    "                          strides=1,padding='SAME',activation=tf.nn.relu)\n",
    "\n",
    "layerl_pool = tf.layers.max_pooling2d(layerl,pool_size=2,strides=2)\n",
    "layerl2 = tf.,reshape(layerl_pool,[-1,32*32*32])\n",
    "layers_relu = tf.layers.dense(layerl2,1024,tf.nn.relu)\n",
    "output = tf.layers.dense(layers_relu,15)\n",
    "\n",
    "loss = tf.losses.softmax_cross_entropy(onehot_labels=lable_input,logits=output)\n",
    "\n",
    "train = tf.train.GradientDescentOptimizer(0.01).minimize(loss)\n",
    "\n",
    "accuracy(lable=tf.arg_max(lable_input,axis=1),precisions= tf.arg_max(output,axis=1))\n",
    "\n",
    "\n",
    "\n",
    "\n",
    "\n",
    "\n",
    "init = tf.group(tf.global_variables_initializer(),tf.local_variables_initializer())\n",
    "\n",
    "with tf.Session() as sess:\n",
    "    sess.run(init)\n",
    "    for i in range(0,200):\n",
    "        train_data = np.array(train_data)\n",
    "        train_lable = np.array(train_lable)\n",
    "        sess.run([train,loss],feed_dict={data_input:test_data,lable_input:test_lable}\n",
    "                )\n",
    "        \n",
    "    print(acc)\n",
    "        \n",
    "        \n",
    "        \n",
    "        "
   ]
  }
 ],
 "metadata": {
  "kernelspec": {
   "display_name": "pytorch13",
   "language": "python",
   "name": "pytorch13"
  },
  "language_info": {
   "codemirror_mode": {
    "name": "ipython",
    "version": 3
   },
   "file_extension": ".py",
   "mimetype": "text/x-python",
   "name": "python",
   "nbconvert_exporter": "python",
   "pygments_lexer": "ipython3",
   "version": "3.7.5"
  }
 },
 "nbformat": 4,
 "nbformat_minor": 2
}
