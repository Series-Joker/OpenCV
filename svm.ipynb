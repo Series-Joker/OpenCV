{
 "cells": [
  {
   "cell_type": "code",
   "execution_count": 4,
   "metadata": {},
   "outputs": [
    {
     "name": "stdout",
     "output_type": "stream",
     "text": [
      "[[167.  55.]\n",
      " [162.  57.]]\n",
      "0.0 [[0.]\n",
      " [1.]]\n"
     ]
    }
   ],
   "source": [
    "'''\n",
    "svm支持向量机\n",
    "本质，寻求一个最优的超平面 分类\n",
    "svm : 核 line\n",
    "\n",
    "身高体重 训练 预测\n",
    "'''\n",
    "import cv2\n",
    "import numpy as np\n",
    "import matplotlib.pyplot as pllt\n",
    "\n",
    "#数据准备\n",
    "rand1 = np.array([[145,33],[167,45],[179,66],[173,55],[180,65]])\n",
    "rand2 = np.array([[133,41],[156,50],[144,43],[160,57],[167,54]])\n",
    "\n",
    "#lable\n",
    "lable = np.array([[0],[0],[0],[0],[0],[1],[1],[1],[1],[1]])\n",
    "\n",
    "#data\n",
    "data = np.vstack((rand1,rand2))\n",
    "data  = np.array(data,dtype='float32')\n",
    "\n",
    "#svm 所有的数据都要有标签\n",
    "#监督学习 0 负样本  1 正样本\n",
    "\n",
    "\n",
    "#训练\n",
    "svm = cv2.ml.SVM_create()  #创建svm\n",
    "#属性设置\n",
    "svm.setType(cv2.ml.SVM_C_SVC)  #svm type\n",
    "svm.setKernel(cv2.ml.SVM_LINEAR)\n",
    "svm.setC(0.01)\n",
    "\n",
    "svm.train(data,cv2.ml.ROW_SAMPLE,lable)\n",
    "\n",
    "#预测\n",
    "pt_data = np.vstack([[167,55],[162,57]]) # 0 女生  1男生\n",
    "pt_data = np.array(pt_data,dtype='float32')\n",
    "print(pt_data)\n",
    "(p1,p2) = svm.predict(pt_data)\n",
    "print(p1,p2)\n"
   ]
  },
  {
   "cell_type": "code",
   "execution_count": null,
   "metadata": {},
   "outputs": [],
   "source": []
  },
  {
   "cell_type": "code",
   "execution_count": null,
   "metadata": {},
   "outputs": [],
   "source": []
  }
 ],
 "metadata": {
  "kernelspec": {
   "display_name": "pytorch13",
   "language": "python",
   "name": "pytorch13"
  },
  "language_info": {
   "codemirror_mode": {
    "name": "ipython",
    "version": 3
   },
   "file_extension": ".py",
   "mimetype": "text/x-python",
   "name": "python",
   "nbconvert_exporter": "python",
   "pygments_lexer": "ipython3",
   "version": "3.7.5"
  }
 },
 "nbformat": 4,
 "nbformat_minor": 2
}
