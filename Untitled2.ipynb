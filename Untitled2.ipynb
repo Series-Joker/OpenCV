{
 "cells": [
  {
   "cell_type": "markdown",
   "metadata": {},
   "source": [
    "# cnn手写数字识别"
   ]
  },
  {
   "cell_type": "code",
   "execution_count": 2,
   "metadata": {},
   "outputs": [],
   "source": [
    "import tensorflow as tf\n",
    "import numpy as np\n",
    "import random\n",
    "from tensorflow.examples.tutorials.mnist import input_data\n"
   ]
  },
  {
   "cell_type": "code",
   "execution_count": null,
   "metadata": {},
   "outputs": [],
   "source": [
    "mnist =  input_data.read_data_sets('MNIST_data',one_hot=True)\n",
    "\n",
    "imageIuput = tf.placeholder(tf.float32,[None,784])\n",
    "lableIuput = tf.placeholder(tf.float32,[None,10])\n",
    "\n",
    "#数据维度调整\n",
    "imageInputReshape = tf.reshape(imageIuput,[-1,28,28,1])\n",
    "\n",
    "#卷积\n",
    "w0 = tf.Variable(tf.truncated_normal([5,5,1,32],stddev=0.1))\n",
    "b0 = tf.Variable(tf.constant(0.1,shape=[32]))\n",
    "\n",
    "layer1 = tf.nn.relu(tf.nn.conv2d(imageInputReshape,w0,strides=[1,1,1,1],padding='SAME')+b0)\n",
    "layer1_pool = tf.nn.max_pool(layer1,ksize=[1,4,4,1],strides=[1,4,4,1],padding='SAME')\n",
    "\n",
    "w1 = tf.Variable(tf.truncated_normal([7*7*32,1024],stddev=0.1))\n",
    "b1 = tf.Variable(tf.constant(0.1,shape=[1024]))\n",
    "h_resshape = tf.reshape(layer1_pool,[-1,7*7*32])\n",
    "h1 = tf.nn.relu(tf.matmul(h_reshpe,w1)+b1)\n",
    "\n",
    "W2 = tf.Variable(tf.truncated_normal([1024,10],stddev=0.1))\n",
    "b2 = tf.Variable(tf.constant(0.1,shape=[10]))\n",
    "pred = tf.nn.softmax(tf.matmul(h1,w2)+b2)\n",
    "\n",
    "loss = lableIuput*tf.log(pred)\n",
    "loss1 = 0\n",
    "for i in range(0,100):\n",
    "    for j in range(0,10):\n",
    "        loss1 = loss1 - loss[i.j]\n",
    "loss3 = loss1/100\n",
    "\n",
    "\n",
    "train = tf.train.GradientDescentOptimizer(0.01).minimize(loss)\n",
    "\n",
    "with tf.Session() as sess:\n",
    "    sess.run(tf.global_variables_initializer())\n",
    "    for i in range(100):\n",
    "        images,labels = mnist.train.next_batch(500)\n",
    "        sess.run(train,feed_dict = {imageIuput:images,lableIuput:labels})\n",
    "        \n",
    "        pred_test = sess.run(pred,feed_dict={imageIuput:images,lableIuput:labels})\n",
    "\n",
    "        acc = tf.equal(tf.arg_max(pred_test,1),tf.arg_max(mnist.test.labels))\n",
    "        acc_floaat = tf.reduce_mean(tf.cast(acc,tf.float32))\n",
    "        \n",
    "        acc_result = sess.run(acc_floaat,feed_dict={imageIuput:mnist.test.images,lableIuput:mnist.test.labels})\n",
    "        \n",
    "        print(acc_floaat)\n",
    "        \n",
    "    "
   ]
  },
  {
   "cell_type": "code",
   "execution_count": null,
   "metadata": {},
   "outputs": [],
   "source": []
  }
 ],
 "metadata": {
  "kernelspec": {
   "display_name": "pytorch13",
   "language": "python",
   "name": "pytorch13"
  },
  "language_info": {
   "codemirror_mode": {
    "name": "ipython",
    "version": 3
   },
   "file_extension": ".py",
   "mimetype": "text/x-python",
   "name": "python",
   "nbconvert_exporter": "python",
   "pygments_lexer": "ipython3",
   "version": "3.7.5"
  }
 },
 "nbformat": 4,
 "nbformat_minor": 2
}
