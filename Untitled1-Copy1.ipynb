{
 "cells": [
  {
   "cell_type": "markdown",
   "metadata": {},
   "source": [
    "# KNN手写数字识别"
   ]
  },
  {
   "cell_type": "code",
   "execution_count": 3,
   "metadata": {},
   "outputs": [],
   "source": [
    "import tensorflow as tf\n",
    "import numpy as np\n",
    "import random\n",
    "from tensorflow.examples.tutorials.mnist import input_data\n"
   ]
  },
  {
   "cell_type": "code",
   "execution_count": 10,
   "metadata": {},
   "outputs": [
    {
     "name": "stdout",
     "output_type": "stream",
     "text": [
      "Extracting MNIST_data\\train-images-idx3-ubyte.gz\n",
      "Extracting MNIST_data\\train-labels-idx1-ubyte.gz\n",
      "Extracting MNIST_data\\t10k-images-idx3-ubyte.gz\n",
      "Extracting MNIST_data\\t10k-labels-idx1-ubyte.gz\n",
      "(500, 784)\n",
      "(5, 784)\n"
     ]
    }
   ],
   "source": [
    "mnist =  input_data.read_data_sets('MNIST_data',one_hot=True)\n",
    "#属性设置\n",
    "trainNum = 55000\n",
    "testNum = 10000\n",
    "trainSize = 500\n",
    "testSie = 5\n",
    "k = 4\n",
    "#数据分解\n",
    "trainIndex = np.random.choice(trainNum,trainSize,replace=False)\n",
    "testIndex = np.random.choice(testNum,testSie,replace=False)\n",
    "trainData = mnist.train.images[trainIndex]#训练图片\n",
    "trainLable = mnist.train.labels[trainIndex]\n",
    "testData = mnist.test.images[testIndex]\n",
    "testLable = mnist.test.labels[testIndex]\n",
    "print(trainData.shape)\n",
    "print(testData.shape)"
   ]
  },
  {
   "cell_type": "code",
   "execution_count": 27,
   "metadata": {},
   "outputs": [
    {
     "name": "stdout",
     "output_type": "stream",
     "text": [
      "(5, 1, 784)\n",
      "(5, 500, 784)\n",
      "(5, 500)\n",
      "(5, 500)\n",
      "(5, 4)\n",
      "(5, 4)\n",
      "(5, 4, 784)\n",
      "(5, 784)\n",
      "(5,)\n",
      "[269 518 462 435 406]\n",
      "[7 2 8 9 1]\n"
     ]
    }
   ],
   "source": [
    "trainIuput = tf.placeholder(shape=[None,784],dtype=tf.float32)\n",
    "teainLableInput = tf.placeholder(shape=[None,10],dtype=tf.float32)\n",
    "testIuput = tf.placeholder(shape=[None,784],dtype=tf.float32)\n",
    "testLableInput = tf.placeholder(shape=[None,10],dtype=tf.float32)\n",
    "\n",
    "#knn distance\n",
    "#5 500 784\n",
    "f1 = tf.expand_dims(testIuput,1)\n",
    "f2 = tf.subtract(trainIuput,f1)\n",
    "f3 = tf.reduce_sum(tf.abs(f2),reduction_indices=2) #数据累加  5*500\n",
    "f4 = tf.negative(f3) #取反\n",
    "f5,f6 = tf.nn.top_k(f4,k=4)\n",
    "f7 = tf.gather(trainIuput,f6)\n",
    "f8 = tf.reduce_sum(f7,reduction_indices=1)\n",
    "f9 = tf.arg_max(f8,dimension=1)\n",
    "\n",
    "with tf.Session() as sess:\n",
    "    p1 = sess.run(f1,feed_dict={testIuput:testData[0:5]})\n",
    "    print(p1.shape)  # (5,1,784)\n",
    "    p2 = sess.run(f2,feed_dict={trainIuput:trainData,testIuput:testData})\n",
    "    print(p2.shape) #(5,500,784)\n",
    "    p3 = sess.run(f3,feed_dict={trainIuput:trainData,testIuput:testData})\n",
    "    print(p3.shape) #(5,500)\n",
    "    p4 = sess.run(f4,feed_dict={trainIuput:trainData,testIuput:testData})\n",
    "    print(p4.shape) #(5,500)\n",
    "    \n",
    "    p5,p6 = sess.run((f5,f6),feed_dict={trainIuput:trainData,testIuput:testData})\n",
    "    print(p5.shape) # (5,4) 每一张测试图片分别对应4张最近训练图片\n",
    "    print(p6.shape) #(5,4)\n",
    "    \n",
    "    p7 = sess.run(f7,feed_dict={trainIuput:trainData,testIuput:testData})\n",
    "    print(p7.shape) #(5,500)\n",
    "    \n",
    "    p8 = sess.run(f8,feed_dict={trainIuput:trainData,testIuput:testData})\n",
    "    print(p8.shape) #(5,784)\n",
    "    \n",
    "    p9 = sess.run(f9,feed_dict={trainIuput:trainData,testIuput:testData})\n",
    "    print(p9.shape) #(5,)\n",
    "    print(p9)\n",
    "    \n",
    "    p10 = np.argmax(testLable[0:5],axis=1)\n",
    "    print(p10)\n",
    "    \n",
    "for i in range(0,5):\n",
    "    if p10[i] == p9[i]:\n",
    "        j += 1\n",
    "    print(j*100/5)\n",
    "        "
   ]
  },
  {
   "cell_type": "code",
   "execution_count": null,
   "metadata": {},
   "outputs": [],
   "source": []
  },
  {
   "cell_type": "code",
   "execution_count": null,
   "metadata": {},
   "outputs": [],
   "source": []
  }
 ],
 "metadata": {
  "kernelspec": {
   "display_name": "pytorch13",
   "language": "python",
   "name": "pytorch13"
  },
  "language_info": {
   "codemirror_mode": {
    "name": "ipython",
    "version": 3
   },
   "file_extension": ".py",
   "mimetype": "text/x-python",
   "name": "python",
   "nbconvert_exporter": "python",
   "pygments_lexer": "ipython3",
   "version": "3.7.5"
  }
 },
 "nbformat": 4,
 "nbformat_minor": 2
}
