{
 "cells": [
  {
   "cell_type": "markdown",
   "metadata": {},
   "source": [
    "# 视频分解图片"
   ]
  },
  {
   "cell_type": "code",
   "execution_count": 8,
   "metadata": {},
   "outputs": [],
   "source": [
    "import cv2"
   ]
  },
  {
   "cell_type": "code",
   "execution_count": 9,
   "metadata": {},
   "outputs": [
    {
     "name": "stdout",
     "output_type": "stream",
     "text": [
      "<built-in method isOpened of cv2.VideoCapture object at 0x00000278E3D14AD0>\n",
      "20.0 640 360\n",
      "image1.jpg\n",
      "image2.jpg\n",
      "image3.jpg\n",
      "image4.jpg\n",
      "image5.jpg\n",
      "image6.jpg\n",
      "image7.jpg\n",
      "image8.jpg\n",
      "image9.jpg\n",
      "image10.jpg\n",
      "end\n"
     ]
    }
   ],
   "source": [
    "#视频分解图片\n",
    "#load  2info 3 parse 4 imshow imwrite\n",
    "\n",
    "cap = cv2.VideoCapture('1.mp4')\n",
    "isOpened = cap.isOpened\n",
    "print(isOpened)\n",
    "fps = cap.get(cv2.CAP_PROP_FPS)\n",
    "width = int(cap.get(cv2.CAP_PROP_FRAME_WIDTH))\n",
    "height = int(cap.get(cv2.CAP_PROP_FRAME_HEIGHT))\n",
    "print(fps,width,height)\n",
    "i = 0 \n",
    "while(isOpened):\n",
    "    if i == 10:\n",
    "        break\n",
    "    else:\n",
    "        i += 1\n",
    "    (flag,frame) = cap.read()\n",
    "    filename = 'image'+str(i)+'.jpg'\n",
    "    print(filename)\n",
    "    if flag == True:\n",
    "        cv2.imwrite(filename,frame,[cv2.IMWRITE_JPEG_CHROMA_QUALITY,100])\n",
    "print('end')\n"
   ]
  },
  {
   "cell_type": "markdown",
   "metadata": {},
   "source": [
    "# 图片合成视频"
   ]
  },
  {
   "cell_type": "code",
   "execution_count": 10,
   "metadata": {},
   "outputs": [
    {
     "name": "stdout",
     "output_type": "stream",
     "text": [
      "(640, 360)\n",
      "end\n"
     ]
    }
   ],
   "source": [
    "img = cv2.imread('image1.jpg')\n",
    "imgInfo = img.shape\n",
    "size = (imgInfo[1],imgInfo[0])\n",
    "print(size)\n",
    "VideoWrite = cv2.VideoWriter('2.mp4',-1,5,size) #写入对象\n",
    "for i in range(1,11):\n",
    "    filename = 'image'+str(i) + '.jpg'\n",
    "    img = cv2.imread(filename)\n",
    "    VideoWrite.write(img) #写入方法\n",
    "    \n",
    "print('end')"
   ]
  },
  {
   "cell_type": "code",
   "execution_count": null,
   "metadata": {},
   "outputs": [],
   "source": []
  }
 ],
 "metadata": {
  "kernelspec": {
   "display_name": "pytorch13",
   "language": "python",
   "name": "pytorch13"
  },
  "language_info": {
   "codemirror_mode": {
    "name": "ipython",
    "version": 3
   },
   "file_extension": ".py",
   "mimetype": "text/x-python",
   "name": "python",
   "nbconvert_exporter": "python",
   "pygments_lexer": "ipython3",
   "version": "3.7.5"
  }
 },
 "nbformat": 4,
 "nbformat_minor": 2
}
