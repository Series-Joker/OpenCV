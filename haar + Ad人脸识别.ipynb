{
 "cells": [
  {
   "cell_type": "code",
   "execution_count": null,
   "metadata": {},
   "outputs": [],
   "source": [
    "# 1 haar特征   特征 = 像素 ->运算 ->结果（具体值 向量 矩阵 多维）\n",
    "# 2 如何利用特征 区分目标？阈值判决\n",
    "# 3 得到判决？机器学习\n",
    "\n",
    "# 公式推导 1  -2\n"
   ]
  },
  {
   "cell_type": "code",
   "execution_count": null,
   "metadata": {},
   "outputs": [],
   "source": [
    "#haar + addboost face\n",
    "# 1 分类器的结构   2 adaboost  3 xml 文件结构\n",
    "'''\n",
    "addboost 训练\n",
    "1 初始化数据权值分布\n",
    "0.1 0.1 0.1 0.1\n",
    "2 遍历阈值 p\n",
    "3 G1(X)\n",
    "4 权值分布 update\n",
    "0.2 0.2 0.2 0.7\n",
    "训练终止条件 1 for count 2 p\n",
    "'''\n"
   ]
  },
  {
   "cell_type": "markdown",
   "metadata": {},
   "source": [
    "# haar + Adaboost 人脸识别"
   ]
  },
  {
   "cell_type": "code",
   "execution_count": 4,
   "metadata": {},
   "outputs": [
    {
     "name": "stdout",
     "output_type": "stream",
     "text": [
      "2\n",
      "4\n",
      "3\n"
     ]
    },
    {
     "data": {
      "text/plain": [
       "-1"
      ]
     },
     "execution_count": 4,
     "metadata": {},
     "output_type": "execute_result"
    }
   ],
   "source": [
    "import cv2\n",
    "import numpy as np\n",
    "\n",
    "face_xml = cv2.CascadeClassifier('haarcascade_frontalface_default.xml')\n",
    "eye_xml = cv2.CascadeClassifier('haarcascade_eye.xml')\n",
    " \n",
    "img = cv2.imread('222.jpg')\n",
    "cv2.imshow('src',img)\n",
    "gray = cv2.cvtColor(img,cv2.COLOR_BGR2GRAY)\n",
    "faces = face_xml.detectMultiScale(gray,1.3,5)\n",
    "print(len(faces))\n",
    "for (x,y,w,h) in faces:\n",
    "    cv2.rectangle(img,(x,y),(x+w,y+h),(255,0,0),2)\n",
    "    roi_face = gray[y:y+h,x:x+w]\n",
    "    roi_color = img[y:y+h,x:x+w]\n",
    "    eyes = eye_xml.detectMultiScale(roi_face) #参数必须为灰度图\n",
    "    print(len(eyes))\n",
    "    for (e_x,e_y,e_w,e_h) in  eyes:\n",
    "        cv2.rectangle(roi_color,(e_x,e_y),(e_x+e_w,e_y+e_h),(0,255,0),2)\n",
    "cv2.imshow('dst',img)\n",
    "cv2.waitKey(0)"
   ]
  },
  {
   "cell_type": "code",
   "execution_count": null,
   "metadata": {},
   "outputs": [],
   "source": []
  }
 ],
 "metadata": {
  "kernelspec": {
   "display_name": "pytorch13",
   "language": "python",
   "name": "pytorch13"
  },
  "language_info": {
   "codemirror_mode": {
    "name": "ipython",
    "version": 3
   },
   "file_extension": ".py",
   "mimetype": "text/x-python",
   "name": "python",
   "nbconvert_exporter": "python",
   "pygments_lexer": "ipython3",
   "version": "3.7.5"
  }
 },
 "nbformat": 4,
 "nbformat_minor": 2
}
